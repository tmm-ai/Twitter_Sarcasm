{
  "nbformat": 4,
  "nbformat_minor": 0,
  "metadata": {
    "colab": {
      "name": "cs410_text_compFINAL",
      "provenance": [],
      "collapsed_sections": [],
      "toc_visible": true
    },
    "kernelspec": {
      "name": "python3",
      "display_name": "Python 3"
    },
    "accelerator": "GPU"
  },
  "cells": [
    {
      "cell_type": "markdown",
      "metadata": {
        "id": "kjSCDpykGF-O"
      },
      "source": [
        "This will link your Google Drive account to Google Colabs. You will be given a link to click and from there you will provide permission to access google drive. Then, a verification code is provided to paste in the code below.   "
      ]
    },
    {
      "cell_type": "code",
      "metadata": {
        "id": "iqxiAqwpJBqR",
        "colab": {
          "base_uri": "https://localhost:8080/"
        },
        "outputId": "f23f26f4-ab9b-4e95-876e-1fb7d54228e2"
      },
      "source": [
        "from google.colab import drive\n",
        "drive.mount('/content/drive')"
      ],
      "execution_count": 1,
      "outputs": [
        {
          "output_type": "stream",
          "text": [
            "Drive already mounted at /content/drive; to attempt to forcibly remount, call drive.mount(\"/content/drive\", force_remount=True).\n"
          ],
          "name": "stdout"
        }
      ]
    },
    {
      "cell_type": "code",
      "metadata": {
        "colab": {
          "base_uri": "https://localhost:8080/"
        },
        "id": "ZWXgX6aL7XwT",
        "outputId": "0a7837a8-a99b-4e8a-c95f-c0c30feb6e12"
      },
      "source": [
        "!pip install transformers"
      ],
      "execution_count": 2,
      "outputs": [
        {
          "output_type": "stream",
          "text": [
            "Requirement already satisfied: transformers in /usr/local/lib/python3.6/dist-packages (4.0.1)\n",
            "Requirement already satisfied: sacremoses in /usr/local/lib/python3.6/dist-packages (from transformers) (0.0.43)\n",
            "Requirement already satisfied: tqdm>=4.27 in /usr/local/lib/python3.6/dist-packages (from transformers) (4.41.1)\n",
            "Requirement already satisfied: dataclasses; python_version < \"3.7\" in /usr/local/lib/python3.6/dist-packages (from transformers) (0.8)\n",
            "Requirement already satisfied: filelock in /usr/local/lib/python3.6/dist-packages (from transformers) (3.0.12)\n",
            "Requirement already satisfied: regex!=2019.12.17 in /usr/local/lib/python3.6/dist-packages (from transformers) (2019.12.20)\n",
            "Requirement already satisfied: numpy in /usr/local/lib/python3.6/dist-packages (from transformers) (1.18.5)\n",
            "Requirement already satisfied: requests in /usr/local/lib/python3.6/dist-packages (from transformers) (2.23.0)\n",
            "Requirement already satisfied: tokenizers==0.9.4 in /usr/local/lib/python3.6/dist-packages (from transformers) (0.9.4)\n",
            "Requirement already satisfied: packaging in /usr/local/lib/python3.6/dist-packages (from transformers) (20.7)\n",
            "Requirement already satisfied: click in /usr/local/lib/python3.6/dist-packages (from sacremoses->transformers) (7.1.2)\n",
            "Requirement already satisfied: joblib in /usr/local/lib/python3.6/dist-packages (from sacremoses->transformers) (0.17.0)\n",
            "Requirement already satisfied: six in /usr/local/lib/python3.6/dist-packages (from sacremoses->transformers) (1.15.0)\n",
            "Requirement already satisfied: certifi>=2017.4.17 in /usr/local/lib/python3.6/dist-packages (from requests->transformers) (2020.12.5)\n",
            "Requirement already satisfied: idna<3,>=2.5 in /usr/local/lib/python3.6/dist-packages (from requests->transformers) (2.10)\n",
            "Requirement already satisfied: chardet<4,>=3.0.2 in /usr/local/lib/python3.6/dist-packages (from requests->transformers) (3.0.4)\n",
            "Requirement already satisfied: urllib3!=1.25.0,!=1.25.1,<1.26,>=1.21.1 in /usr/local/lib/python3.6/dist-packages (from requests->transformers) (1.24.3)\n",
            "Requirement already satisfied: pyparsing>=2.0.2 in /usr/local/lib/python3.6/dist-packages (from packaging->transformers) (2.4.7)\n"
          ],
          "name": "stdout"
        }
      ]
    },
    {
      "cell_type": "code",
      "metadata": {
        "id": "_96hV---CqJn"
      },
      "source": [
        "import pandas as pd\n",
        "import numpy as np\n",
        "import tensorflow as tf\n",
        "from tensorflow.keras.layers import Dense, Input\n",
        "from tensorflow.keras.optimizers import Adam\n",
        "from tqdm import tqdm\n",
        "from sklearn.model_selection import StratifiedKFold\n",
        "from sklearn.metrics import f1_score\n",
        "from transformers import TFRobertaForSequenceClassification, TFBertForSequenceClassification\n",
        "from transformers import RobertaTokenizerFast, BertTokenizerFast\n",
        "import tensorflow.keras.backend as K\n",
        "from sklearn.model_selection import train_test_split"
      ],
      "execution_count": 3,
      "outputs": []
    },
    {
      "cell_type": "markdown",
      "metadata": {
        "id": "byQJK8ewwHKs"
      },
      "source": [
        "sample() is used to generate a sample random row from the function caller train.\n",
        "\n",
        "frac: Float value, Returns (float value * length of sample values )\n",
        "\n",
        "random_state is the initial seed for random # generation\n",
        "\n",
        "reset_index(drop=True): drop parameter is used to avoid the old index being added as a column:\n",
        "\n",
        "What do you mean by \"#shuffle\"? How is the random number generator used?"
      ]
    },
    {
      "cell_type": "code",
      "metadata": {
        "id": "mS1BGNmAbF5t"
      },
      "source": [
        "#read data\n",
        "train = pd.read_json(\"drive/MyDrive/data/train.jsonl\", lines=True)\n",
        "test =  pd.read_json(\"drive/MyDrive/data/test.jsonl\", lines=True)\n",
        "train = train.sample(frac=1, random_state = 5).reset_index(drop=True) #shuffle"
      ],
      "execution_count": 4,
      "outputs": []
    },
    {
      "cell_type": "markdown",
      "metadata": {
        "id": "NgIGuWuSyqOF"
      },
      "source": [
        "we are adding in the string \"#CONTEXT\" to the context tweets.\n",
        "\n",
        "What is text_lst[i]?"
      ]
    },
    {
      "cell_type": "code",
      "metadata": {
        "id": "AlJyAdbqbSFY"
      },
      "source": [
        "def prepare_context(text_lst): #prepare context for input\n",
        "  res = \"\"\n",
        "  for i in range(len(text_lst)):\n",
        "    res += \" # CONTEXT \" + str(i)+ \" # \" + text_lst[i]\n",
        "  return res"
      ],
      "execution_count": 5,
      "outputs": []
    },
    {
      "cell_type": "markdown",
      "metadata": {
        "id": "GNhynE1lzjL8"
      },
      "source": [
        "First line: we are adding in the \"#RESPONSE#\" string to the fron of the input. and ten adding in the new context labled tweets right after the response.\n",
        "\n",
        "Second line: is adding in the label_numeric column attributing 0/1 to not sarcasm /sarcasm\n",
        "\n",
        "Third line: we are mapping the 1/0 lables to the lable_numeric column\n",
        "\n",
        "Fourth line: print out of initial rows"
      ]
    },
    {
      "cell_type": "code",
      "metadata": {
        "id": "B5NqjpBPbSl4",
        "colab": {
          "base_uri": "https://localhost:8080/",
          "height": 306
        },
        "outputId": "6cdf935e-c205-4d20-8ac5-24f30fea9f25"
      },
      "source": [
        "#prepare input\n",
        "train[\"input\"] = train[\"response\"].apply(lambda x: \" # RESPONSE # \"+x) + train[\"context\"].apply(prepare_context) #add response and context together\n",
        "train[\"input\"] = \" ** TWEET ** \" + train[\"input\"] #(not really important, used this to differentiate amongst external data but not needed in the end)\n",
        "train[\"label_numeric\"] = train[\"label\"].map({\"SARCASM\": 1, \"NOT_SARCASM\": 0})\n",
        "train.head()"
      ],
      "execution_count": 6,
      "outputs": [
        {
          "output_type": "execute_result",
          "data": {
            "text/html": [
              "<div>\n",
              "<style scoped>\n",
              "    .dataframe tbody tr th:only-of-type {\n",
              "        vertical-align: middle;\n",
              "    }\n",
              "\n",
              "    .dataframe tbody tr th {\n",
              "        vertical-align: top;\n",
              "    }\n",
              "\n",
              "    .dataframe thead th {\n",
              "        text-align: right;\n",
              "    }\n",
              "</style>\n",
              "<table border=\"1\" class=\"dataframe\">\n",
              "  <thead>\n",
              "    <tr style=\"text-align: right;\">\n",
              "      <th></th>\n",
              "      <th>label</th>\n",
              "      <th>response</th>\n",
              "      <th>context</th>\n",
              "      <th>input</th>\n",
              "      <th>label_numeric</th>\n",
              "    </tr>\n",
              "  </thead>\n",
              "  <tbody>\n",
              "    <tr>\n",
              "      <th>0</th>\n",
              "      <td>SARCASM</td>\n",
              "      <td>@USER @USER @USER please , do read your own da...</td>\n",
              "      <td>[My latest @USER - Obama's weakness invited th...</td>\n",
              "      <td>** TWEET **  # RESPONSE # @USER @USER @USER p...</td>\n",
              "      <td>1</td>\n",
              "    </tr>\n",
              "    <tr>\n",
              "      <th>1</th>\n",
              "      <td>SARCASM</td>\n",
              "      <td>@USER The right seems to have a smug assumptio...</td>\n",
              "      <td>[The Left ’ s All-Out War on Trump &lt;URL&gt; THE L...</td>\n",
              "      <td>** TWEET **  # RESPONSE # @USER The right see...</td>\n",
              "      <td>1</td>\n",
              "    </tr>\n",
              "    <tr>\n",
              "      <th>2</th>\n",
              "      <td>NOT_SARCASM</td>\n",
              "      <td>@USER @USER #Confessing &amp; repenting are demand...</td>\n",
              "      <td>[Oh well , guess I'm going to hell . See y'all...</td>\n",
              "      <td>** TWEET **  # RESPONSE # @USER @USER #Confes...</td>\n",
              "      <td>0</td>\n",
              "    </tr>\n",
              "    <tr>\n",
              "      <th>3</th>\n",
              "      <td>NOT_SARCASM</td>\n",
              "      <td>🍗 The word of the Lord came to me : “ I cannot...</td>\n",
              "      <td>[🍗 If I ’ m not right about The Narrow Door , ...</td>\n",
              "      <td>** TWEET **  # RESPONSE # 🍗 The word of the L...</td>\n",
              "      <td>0</td>\n",
              "    </tr>\n",
              "    <tr>\n",
              "      <th>4</th>\n",
              "      <td>SARCASM</td>\n",
              "      <td>@USER what a fascinating conclusion . Definite...</td>\n",
              "      <td>[Does anyone care to explain this to me ? &lt;URL...</td>\n",
              "      <td>** TWEET **  # RESPONSE # @USER what a fascin...</td>\n",
              "      <td>1</td>\n",
              "    </tr>\n",
              "  </tbody>\n",
              "</table>\n",
              "</div>"
            ],
            "text/plain": [
              "         label  ... label_numeric\n",
              "0      SARCASM  ...             1\n",
              "1      SARCASM  ...             1\n",
              "2  NOT_SARCASM  ...             0\n",
              "3  NOT_SARCASM  ...             0\n",
              "4      SARCASM  ...             1\n",
              "\n",
              "[5 rows x 5 columns]"
            ]
          },
          "metadata": {
            "tags": []
          },
          "execution_count": 6
        }
      ]
    },
    {
      "cell_type": "markdown",
      "metadata": {
        "id": "OhiZI40SzasR"
      },
      "source": [
        "This prints out the first full example of response and context tweets for quality check of data prep"
      ]
    },
    {
      "cell_type": "code",
      "metadata": {
        "colab": {
          "base_uri": "https://localhost:8080/",
          "height": 86
        },
        "id": "NmOQQ8lkzLfU",
        "outputId": "7fd3e243-7e94-4a04-8c90-f9a2aad87012"
      },
      "source": [
        "train.loc[0][\"input\"]"
      ],
      "execution_count": 7,
      "outputs": [
        {
          "output_type": "execute_result",
          "data": {
            "application/vnd.google.colaboratory.intrinsic+json": {
              "type": "string"
            },
            "text/plain": [
              "\" ** TWEET **  # RESPONSE # @USER @USER @USER please , do read your own damn comment . Lmao . # CONTEXT 0 # My latest @USER - Obama's weakness invited the Russians to meddle in US elections ( but Dems will never admit it ) . <URL> # CONTEXT 1 # @USER @USER @USER why would Putin want the strong Trump over the weak Hillary ? Makes zero sense .\""
            ]
          },
          "metadata": {
            "tags": []
          },
          "execution_count": 7
        }
      ]
    },
    {
      "cell_type": "code",
      "metadata": {
        "id": "gdqD2OTGbcqd"
      },
      "source": [
        "#train-test split\n",
        "train_texts, val_texts, train_labels, val_labels = train_test_split(list(train[\"input\"].values), list(train[\"label_numeric\"].values), test_size=.2, random_state = 5)"
      ],
      "execution_count": 8,
      "outputs": []
    },
    {
      "cell_type": "code",
      "metadata": {
        "id": "U-O5UeKBbgqf",
        "colab": {
          "base_uri": "https://localhost:8080/"
        },
        "outputId": "882af25d-b918-4384-db49-456c12ceeab7"
      },
      "source": [
        "#tokenize data (prepare inputs, attention masks, and special tokens)\n",
        "tokenizer = RobertaTokenizerFast.from_pretrained('roberta-large')\n",
        "train_encodings = tokenizer(train_texts, truncation=True, padding=True, max_length=128)\n",
        "val_encodings = tokenizer(val_texts, truncation=True, padding=True, max_length=128)\n",
        "train_dataset = tf.data.Dataset.from_tensor_slices(( #creates a tensorflow dataset object that can be used to train\n",
        "    dict(train_encodings),\n",
        "    train_labels\n",
        "))\n",
        "val_dataset = tf.data.Dataset.from_tensor_slices((\n",
        "    dict(val_encodings),\n",
        "    val_labels\n",
        "))\n",
        "\n",
        "#train model\n",
        "K.clear_session() #initializes random parameters\n",
        "model = TFRobertaForSequenceClassification.from_pretrained('roberta-large')\n",
        "optimizer = tf.keras.optimizers.Adam(learning_rate=2e-5)\n",
        "model.compile(optimizer=optimizer, loss=model.compute_loss, metrics=['accuracy']) # can also use any keras loss fn\n",
        "model.fit(train_dataset.shuffle(1000).batch(16), epochs=3, batch_size=16, validation_data=val_dataset.shuffle(100).batch(16))"
      ],
      "execution_count": 9,
      "outputs": [
        {
          "output_type": "stream",
          "text": [
            "Some layers from the model checkpoint at roberta-large were not used when initializing TFRobertaForSequenceClassification: ['lm_head']\n",
            "- This IS expected if you are initializing TFRobertaForSequenceClassification from the checkpoint of a model trained on another task or with another architecture (e.g. initializing a BertForSequenceClassification model from a BertForPreTraining model).\n",
            "- This IS NOT expected if you are initializing TFRobertaForSequenceClassification from the checkpoint of a model that you expect to be exactly identical (initializing a BertForSequenceClassification model from a BertForSequenceClassification model).\n",
            "Some layers of TFRobertaForSequenceClassification were not initialized from the model checkpoint at roberta-large and are newly initialized: ['classifier']\n",
            "You should probably TRAIN this model on a down-stream task to be able to use it for predictions and inference.\n"
          ],
          "name": "stderr"
        },
        {
          "output_type": "stream",
          "text": [
            "Epoch 1/3\n",
            "WARNING:tensorflow:Gradients do not exist for variables ['tf_roberta_for_sequence_classification/roberta/pooler/dense/kernel:0', 'tf_roberta_for_sequence_classification/roberta/pooler/dense/bias:0'] when minimizing the loss.\n",
            "WARNING:tensorflow:Gradients do not exist for variables ['tf_roberta_for_sequence_classification/roberta/pooler/dense/kernel:0', 'tf_roberta_for_sequence_classification/roberta/pooler/dense/bias:0'] when minimizing the loss.\n",
            "WARNING:tensorflow:Gradients do not exist for variables ['tf_roberta_for_sequence_classification/roberta/pooler/dense/kernel:0', 'tf_roberta_for_sequence_classification/roberta/pooler/dense/bias:0'] when minimizing the loss.\n",
            "WARNING:tensorflow:Gradients do not exist for variables ['tf_roberta_for_sequence_classification/roberta/pooler/dense/kernel:0', 'tf_roberta_for_sequence_classification/roberta/pooler/dense/bias:0'] when minimizing the loss.\n",
            "250/250 [==============================] - 445s 2s/step - loss: 0.5529 - accuracy: 0.6990 - val_loss: 0.4336 - val_accuracy: 0.7940\n",
            "Epoch 2/3\n",
            "250/250 [==============================] - 442s 2s/step - loss: 0.4019 - accuracy: 0.8177 - val_loss: 0.3904 - val_accuracy: 0.8240\n",
            "Epoch 3/3\n",
            "250/250 [==============================] - 443s 2s/step - loss: 0.2756 - accuracy: 0.8878 - val_loss: 0.4025 - val_accuracy: 0.8390\n"
          ],
          "name": "stdout"
        },
        {
          "output_type": "execute_result",
          "data": {
            "text/plain": [
              "<tensorflow.python.keras.callbacks.History at 0x7f0b0eb5f3c8>"
            ]
          },
          "metadata": {
            "tags": []
          },
          "execution_count": 9
        }
      ]
    },
    {
      "cell_type": "code",
      "metadata": {
        "id": "Qbr6a4LYcl_w",
        "colab": {
          "base_uri": "https://localhost:8080/"
        },
        "outputId": "231ff950-0d06-4ba5-dba3-17da19400974"
      },
      "source": [
        "#predict on validation set\n",
        "val_pred = []\n",
        "for text in tqdm(val_texts): #predict each validation row with progress bar\n",
        "    val_encodings = tokenizer.encode(text,\n",
        "                             truncation=True,\n",
        "                             padding=True,\n",
        "                             max_length=128, #add in a little more context \n",
        "                             return_tensors=\"tf\")\n",
        "    logits = model.predict(val_encodings)[0] #outputs logits\n",
        "    val_pred.append(tf.nn.softmax(logits, axis=1).numpy()[0]) #converts logits to probabilities\n",
        "val_pred_labels = np.argmax(val_pred, axis=-1) #outputs higher probable class\n",
        "f1_score(val_labels, val_pred_labels)"
      ],
      "execution_count": 10,
      "outputs": [
        {
          "output_type": "stream",
          "text": [
            "100%|██████████| 1000/1000 [01:51<00:00,  8.95it/s]\n"
          ],
          "name": "stderr"
        },
        {
          "output_type": "execute_result",
          "data": {
            "text/plain": [
              "0.8489341983317886"
            ]
          },
          "metadata": {
            "tags": []
          },
          "execution_count": 10
        }
      ]
    },
    {
      "cell_type": "code",
      "metadata": {
        "id": "-s4et6Wx_l3P"
      },
      "source": [
        "#save model\n",
        "model.save_pretrained(\"drive/MyDrive/data/roberta_model\")"
      ],
      "execution_count": 11,
      "outputs": []
    },
    {
      "cell_type": "code",
      "metadata": {
        "id": "O7RLWsRfI9Bp",
        "colab": {
          "base_uri": "https://localhost:8080/"
        },
        "outputId": "76595845-f99e-437d-c678-53b1efa323e2"
      },
      "source": [
        "#load model and tokenizer\n",
        "tokenizer = RobertaTokenizerFast.from_pretrained('roberta-large')\n",
        "model = TFRobertaForSequenceClassification.from_pretrained(\"drive/MyDrive/data/roberta_model\")"
      ],
      "execution_count": 11,
      "outputs": [
        {
          "output_type": "stream",
          "text": [
            "All model checkpoint layers were used when initializing TFRobertaForSequenceClassification.\n",
            "\n",
            "All the layers of TFRobertaForSequenceClassification were initialized from the model checkpoint at drive/MyDrive/data/roberta_model.\n",
            "If your task is similar to the task the model of the checkpoint was trained on, you can already use TFRobertaForSequenceClassification for predictions without further training.\n"
          ],
          "name": "stderr"
        }
      ]
    },
    {
      "cell_type": "code",
      "metadata": {
        "id": "MJ2D00jB_rtu",
        "colab": {
          "base_uri": "https://localhost:8080/"
        },
        "outputId": "5e2a55ed-16f4-4765-e6ec-b374f30b3fe7"
      },
      "source": [
        "#prepare test input\n",
        "test[\"input\"] = test[\"response\"].apply(lambda x: \" # RESPONSE # \"+x) + test[\"context\"].apply(prepare_context)\n",
        "test[\"input\"] = \" ** TWEET ** \" + test[\"input\"]\n",
        "test_texts = list(test[\"input\"].values)\n",
        "test_pred = []\n",
        "\n",
        "#tokenize and predict on test set\n",
        "for text in tqdm(test_texts):\n",
        "    test_encodings = tokenizer.encode(text,\n",
        "                             truncation=True,\n",
        "                             padding=True,\n",
        "                             max_length=128, #add in a little more context for predict\n",
        "                             return_tensors=\"tf\")\n",
        "    logits = model.predict(test_encodings)[0]\n",
        "    test_pred.append(tf.nn.softmax(logits, axis=1).numpy()[0])\n",
        "test_pred_labels = np.argmax(test_pred, axis=-1)"
      ],
      "execution_count": 12,
      "outputs": [
        {
          "output_type": "stream",
          "text": [
            "100%|██████████| 1800/1800 [03:14<00:00,  9.23it/s]\n"
          ],
          "name": "stderr"
        }
      ]
    },
    {
      "cell_type": "code",
      "metadata": {
        "id": "T1j11okHAfum"
      },
      "source": [
        "#write test output to answer.txt\n",
        "with open('drive/MyDrive/data/answer128-128v4.txt', 'w') as the_file:\n",
        "    for i in range(len(test)):\n",
        "        if test_pred_labels[i] == 1:   \n",
        "            the_file.write(test.loc[i, \"id\"]+\",SARCASM\\n\")\n",
        "        else:\n",
        "            the_file.write(test.loc[i, \"id\"]+\",NOT_SARCASM\\n\")"
      ],
      "execution_count": 13,
      "outputs": []
    }
  ]
}